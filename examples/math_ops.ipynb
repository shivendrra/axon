{
 "cells": [
  {
   "cell_type": "code",
   "execution_count": 36,
   "metadata": {},
   "outputs": [],
   "source": [
    "import axon\n",
    "\n",
    "a = axon.array([[[1, 4, 5], [0, 4, 2]], [[1, 4, 5], [0, 4, 2]]], dtype=axon.float32)\n",
    "b = axon.array([[[0, -4, 1], [2, 0, -3]], [[-9, -2, 15], [2, -4, 1]]], dtype=axon.float32)"
   ]
  },
  {
   "cell_type": "code",
   "execution_count": 29,
   "metadata": {},
   "outputs": [
    {
     "name": "stdout",
     "output_type": "stream",
     "text": [
      "array([[[1.0, 0.0, 6.0], [2.0, 4.0, -1.0]],\n",
      "\t[[-8.0, 2.0, 20.0], [2.0, 0.0, 3.0]]], dtype=float32)\n",
      "array([[[1.0, 8.0, 4.0], [-2.0, 4.0, 5.0]],\n",
      "\t[[10.0, 6.0, -10.0], [-2.0, 8.0, 1.0]]], dtype=float32)\n",
      "array([[[0.0, -16.0, 5.0], [0.0, 0.0, -6.0]],\n",
      "\t[[-9.0, -8.0, 75.0], [0.0, -16.0, 2.0]]], dtype=float32)\n",
      "array([[[9.999999974752427e-07, -1.0, 5.0], [0.0, 3.999999989900971e-06, -0.6666666865348816]],\n",
      "\t[[-0.1111111119389534, -2.0, 0.3333333432674408], [0.0, -1.0, 2.0]]], dtype=float32)\n"
     ]
    }
   ],
   "source": [
    "# element level operations\n",
    "print(a + b)\n",
    "print(a - b)\n",
    "print(a * b)\n",
    "print(a / b)"
   ]
  },
  {
   "cell_type": "code",
   "execution_count": 30,
   "metadata": {},
   "outputs": [
    {
     "name": "stdout",
     "output_type": "stream",
     "text": [
      "array([[[2.0, 5.0, 6.0], [1.0, 5.0, 3.0]],\n",
      "\t[[2.0, 5.0, 6.0], [1.0, 5.0, 3.0]]], dtype=float32)\n",
      "array([[[0.0, 20.0, 0.0], [0.0, 20.0, 0.0]],\n",
      "\t[[0.0, 20.0, 0.0], [0.0, 20.0, 0.0]]], dtype=float32)\n",
      "array([[[1.0, -3.0, 2.0], [3.0, 1.0, -2.0]],\n",
      "\t[[-8.0, -1.0, 16.0], [3.0, -3.0, 2.0]]], dtype=float32)\n",
      "array([[[2.0, 7.0, 9.0], [1.0, 7.0, 6.0]],\n",
      "\t[[2.0, 7.0, 9.0], [1.0, 7.0, 6.0]]], dtype=float32)\n"
     ]
    }
   ],
   "source": [
    "# element level ops when broadcasting\n",
    "c = [1, 4, 6]\n",
    "print(a + 1)\n",
    "print(a * [0.3, 5, 0.21])\n",
    "print(b + 1)\n",
    "print(a + [1, 3, 4])"
   ]
  },
  {
   "cell_type": "code",
   "execution_count": 31,
   "metadata": {},
   "outputs": [
    {
     "name": "stdout",
     "output_type": "stream",
     "text": [
      "array([[[1.0, 64.0, 125.0], [9.999999843067494e+17, 64.0, 8.0]],\n",
      "\t[[1.0, 64.0, 125.0], [9.999999843067494e+17, 64.0, 8.0]]], dtype=float32)\n",
      "array([[[999999995904.0, 16.0, 1.0], [4.0, 999999995904.0, 9.0]],\n",
      "\t[[81.0, 4.0, 225.0], [4.0, 16.0, 1.0]]], dtype=float32)\n"
     ]
    }
   ],
   "source": [
    "# exponent\n",
    "\n",
    "print(a ** 3)\n",
    "print(b ** 2)"
   ]
  },
  {
   "cell_type": "code",
   "execution_count": 32,
   "metadata": {},
   "outputs": [
    {
     "name": "stdout",
     "output_type": "stream",
     "text": [
      "2.6666666666666665\n",
      "[[1.0, 4.0, 5.0], [0.0, 4.0, 2.0]]\n",
      "[[0.5, 4.0, 3.5], [0.5, 4.0, 3.5]]\n",
      "3.222222222222222\n",
      "[[0.0, 0.0, 0.0], [0.0, 0.0, 0.0]]\n",
      "[[0.25, 0.0, 2.25], [0.25, 0.0, 2.25]]\n",
      "1.7950549357115013\n",
      "[[0.0, 0.0, 0.0], [0.0, 0.0, 0.0]]\n",
      "[[0.5, 0.0, 1.5], [0.5, 0.0, 1.5]]\n"
     ]
    }
   ],
   "source": [
    "# mean, variance & standard deviation calculation\n",
    "\n",
    "print(a.mean())\n",
    "print(a.mean(0))\n",
    "print(a.mean(1))\n",
    "\n",
    "print(a.var())\n",
    "print(a.var(0))\n",
    "print(a.var(1))\n",
    "\n",
    "print(a.std())\n",
    "print(a.std(0))\n",
    "print(a.std(1))"
   ]
  },
  {
   "cell_type": "code",
   "execution_count": 33,
   "metadata": {},
   "outputs": [
    {
     "name": "stdout",
     "output_type": "stream",
     "text": [
      "array([[[0.0, -0.9993293285369873, 0.7615941762924194], [0.9640275835990906, 0.0, -0.9950547814369202]],\n",
      "\t[[-0.9999999403953552, -0.9640275835990906, 1.0], [0.9640275835990906, -0.9993293285369873, 0.7615941762924194]]], dtype=float32)\n",
      "array([[[0.0, 0.0, 1.0], [2.0, 0.0, 0.0]],\n",
      "\t[[0.0, 0.0, 15.0], [2.0, 0.0, 1.0]]], dtype=float32)\n",
      "array([[[0.0, -7.024595106486231e-05, 0.8411920070648193], [1.9545977115631104, 0.0, -0.003637392073869705]],\n",
      "\t[[-0.0, -0.04540230706334114, 15.0], [1.9545977115631104, -7.024595106486231e-05, 0.8411920070648193]]], dtype=float32)\n",
      "array([[[0.5, 0.01798621006309986, 0.7310585975646973], [0.8807970881462097, 0.5, 0.04742587357759476]],\n",
      "\t[[0.00012339458044152707, 0.11920291930437088, 0.9999997019767761], [0.8807970881462097, 0.01798621006309986, 0.7310585975646973]]], dtype=float32)\n"
     ]
    }
   ],
   "source": [
    "# activations\n",
    "\n",
    "print(b.tanh())\n",
    "print(b.relu())\n",
    "print(b.gelu())\n",
    "print(b.sigmoid())"
   ]
  },
  {
   "cell_type": "code",
   "execution_count": 38,
   "metadata": {},
   "outputs": [
    {
     "name": "stdout",
     "output_type": "stream",
     "text": [
      "array([[19.0, 22.0],\n",
      "\t[43.0, 50.0]], dtype=float32)\n",
      "[[19.0, 22.0], [43.0, 50.0]]\n",
      "array([[5.0, 11.0],\n",
      "\t[11.0, 25.0]], dtype=float32)\n",
      "array([[10.0, 14.0],\n",
      "\t[14.0, 20.0]], dtype=float32)\n"
     ]
    }
   ],
   "source": [
    "# matmul\n",
    "\n",
    "a = axon.array([[1, 2], [3, 4]], dtype='int32')\n",
    "b = axon.array([[5, 6], [7, 8]], dtype='int32')\n",
    "\n",
    "print(a @ b)\n",
    "print(axon.matmul(a, b))\n",
    "print(a @ a.T())\n",
    "print(axon.array(a.T()) @ a)"
   ]
  }
 ],
 "metadata": {
  "kernelspec": {
   "display_name": "Python 3",
   "language": "python",
   "name": "python3"
  },
  "language_info": {
   "codemirror_mode": {
    "name": "ipython",
    "version": 3
   },
   "file_extension": ".py",
   "mimetype": "text/x-python",
   "name": "python",
   "nbconvert_exporter": "python",
   "pygments_lexer": "ipython3",
   "version": "3.11.2"
  }
 },
 "nbformat": 4,
 "nbformat_minor": 2
}
