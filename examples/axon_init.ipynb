{
 "cells": [
  {
   "cell_type": "code",
   "execution_count": 1,
   "metadata": {},
   "outputs": [],
   "source": [
    "import axon\n",
    "\n",
    "a = axon.array([[[1, 4, 5], [0, 4, 2]], [[1, 4, 5], [0, 4, 2]]], dtype=axon.int32)"
   ]
  },
  {
   "cell_type": "code",
   "execution_count": 2,
   "metadata": {},
   "outputs": [
    {
     "name": "stdout",
     "output_type": "stream",
     "text": [
      "[2, 2, 3]\n",
      "(2, 2, 3)\n",
      "3\n",
      "int32\n",
      "12\n"
     ]
    }
   ],
   "source": [
    "# basic initialized attributes\n",
    "\n",
    "print(a.shape)\n",
    "print(a.size())\n",
    "print(a.ndim)\n",
    "print(a.dtype)\n",
    "print(a.numel())"
   ]
  },
  {
   "cell_type": "code",
   "execution_count": 3,
   "metadata": {},
   "outputs": [
    {
     "name": "stdout",
     "output_type": "stream",
     "text": [
      "array([[[1, 4, 5], [0, 4, 2]],\n",
      "\t[[1, 4, 5], [0, 4, 2]]], dtype=int16)\n",
      "array([[[1.0, 4.0, 5.0], [0.0, 4.0, 2.0]],\n",
      "\t[[1.0, 4.0, 5.0], [0.0, 4.0, 2.0]]], dtype=float16)\n",
      "array([[[1.0, 4.0, 5.0], [0.0, 4.0, 2.0]],\n",
      "\t[[1.0, 4.0, 5.0], [0.0, 4.0, 2.0]]], dtype=float64)\n",
      "array([[[1, 4, 5], [0, 4, 2]],\n",
      "\t[[1, 4, 5], [0, 4, 2]]], dtype=long)\n"
     ]
    }
   ],
   "source": [
    "# changing the dtype:\n",
    "\n",
    "b = a.astype(axon.int16)\n",
    "c = a.astype(axon.float16)\n",
    "d = a.astype(axon.float64)\n",
    "e = a.astype(axon.long)\n",
    "\n",
    "print(b)\n",
    "print(c)\n",
    "print(d)\n",
    "print(e)"
   ]
  },
  {
   "cell_type": "markdown",
   "metadata": {},
   "source": [
    "#### some unary functions:"
   ]
  },
  {
   "cell_type": "code",
   "execution_count": 4,
   "metadata": {},
   "outputs": [
    {
     "name": "stdout",
     "output_type": "stream",
     "text": [
      "[[[1, 4, 5], [1, 4, 5]], [[0, 4, 2], [0, 4, 2]]]\n",
      "array([[[1, 0], [4, 4], [5, 2]],\n",
      "\t[[1, 0], [4, 4], [5, 2]]], dtype=int32)\n",
      "array([[[1, 0], [4, 4], [5, 2]],\n",
      "\t[[1, 0], [4, 4], [5, 2]]], dtype=int32)\n",
      "array([[[1, 0], [4, 4], [5, 2]],\n",
      "\t[[1, 0], [4, 4], [5, 2]]], dtype=int32)\n"
     ]
    }
   ],
   "source": [
    "# transpose\n",
    "\n",
    "print(a.T())\n",
    "print(a.transpose(0, -1))\n",
    "print(a.transpose(0, 1))\n",
    "print(a.transpose(1, 1))"
   ]
  },
  {
   "cell_type": "code",
   "execution_count": 5,
   "metadata": {},
   "outputs": [
    {
     "name": "stdout",
     "output_type": "stream",
     "text": [
      "[1, 4, 5, 0, 4, 2, 1, 4, 5, 0, 4, 2]\n",
      "[1, 4, 5, 0, 4, 2, 1, 4, 5, 0, 4, 2]\n",
      "[[1, 4, 5, 0, 4, 2], [1, 4, 5, 0, 4, 2]]\n",
      "[1, 4, 5, 0, 4, 2, 1, 4, 5, 0, 4, 2]\n"
     ]
    }
   ],
   "source": [
    "# flatten\n",
    "\n",
    "print(a.F())\n",
    "print(a.flatten(0, -1))\n",
    "print(a.flatten(1, 1))\n",
    "print(a.flatten(0, 2))"
   ]
  },
  {
   "cell_type": "code",
   "execution_count": 9,
   "metadata": {},
   "outputs": [
    {
     "name": "stdout",
     "output_type": "stream",
     "text": [
      "array([[26]], dtype=int32)\n",
      "array([[6, 12, 8]], dtype=int32)\n",
      "array([[12, 14]], dtype=int32)\n"
     ]
    }
   ],
   "source": [
    "# sum\n",
    "\n",
    "c = axon.array([[1, 5, 6], [5, 7, 2]])\n",
    "\n",
    "print(c.sum())\n",
    "print(c.sum(axis=0))\n",
    "print(c.sum(axis=1))"
   ]
  }
 ],
 "metadata": {
  "kernelspec": {
   "display_name": "Python 3",
   "language": "python",
   "name": "python3"
  },
  "language_info": {
   "codemirror_mode": {
    "name": "ipython",
    "version": 3
   },
   "file_extension": ".py",
   "mimetype": "text/x-python",
   "name": "python",
   "nbconvert_exporter": "python",
   "pygments_lexer": "ipython3",
   "version": "3.11.2"
  }
 },
 "nbformat": 4,
 "nbformat_minor": 2
}
